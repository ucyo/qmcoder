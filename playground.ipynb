{
 "cells": [
  {
   "cell_type": "code",
   "execution_count": 235,
   "metadata": {},
   "outputs": [
    {
     "name": "stdout",
     "output_type": "stream",
     "text": [
      "The autoreload extension is already loaded. To reload it, use:\n",
      "  %reload_ext autoreload\n"
     ]
    }
   ],
   "source": [
    "%load_ext autoreload\n",
    "%autoreload 2 "
   ]
  },
  {
   "cell_type": "code",
   "execution_count": 236,
   "metadata": {},
   "outputs": [],
   "source": [
    "from tables import JPEGProbabilityTable, IllustrativeProbabilityTable"
   ]
  },
  {
   "cell_type": "code",
   "execution_count": 237,
   "metadata": {},
   "outputs": [],
   "source": [
    "ptable = JPEGProbabilityTable()"
   ]
  },
  {
   "cell_type": "code",
   "execution_count": 238,
   "metadata": {},
   "outputs": [
    {
     "data": {
      "text/plain": [
       "(True, '0x5a1d')"
      ]
     },
     "execution_count": 238,
     "metadata": {},
     "output_type": "execute_result"
    }
   ],
   "source": [
    "ptable.is_exchange_needed, hex(ptable.qe)"
   ]
  },
  {
   "cell_type": "code",
   "execution_count": 239,
   "metadata": {},
   "outputs": [
    {
     "data": {
      "text/plain": [
       "(True, '0xac1')"
      ]
     },
     "execution_count": 239,
     "metadata": {},
     "output_type": "execute_result"
    }
   ],
   "source": [
    "ptable = IllustrativeProbabilityTable()\n",
    "ptable.is_exchange_needed, hex(ptable.qe)"
   ]
  },
  {
   "cell_type": "code",
   "execution_count": 240,
   "metadata": {},
   "outputs": [],
   "source": [
    "class Encoder(object):\n",
    "    \n",
    "    def __init__(self):\n",
    "        self.ptable = IllustrativeProbabilityTable()\n",
    "        self.lps = 1\n",
    "        self.C = 0\n",
    "        self.A = self.ptable.one\n",
    "        self.steps = 0\n",
    "\n",
    "    @property\n",
    "    def Qe(self):\n",
    "        return self.ptable.qe\n",
    "    \n",
    "    def renormalize(self):\n",
    "        while self.A < self.ptable.threequarter:\n",
    "            self.A <<= 1\n",
    "            self.C <<= 1\n",
    "    \n",
    "    def encode_mps(self):\n",
    "        self.steps += 1\n",
    "        self.A -= self.Qe\n",
    "        if self.A < self.ptable.threequarter:\n",
    "#             if self.ptable.is_exchange_needed:\n",
    "#                 self.C += self.A\n",
    "#                 self.A = self.Qe\n",
    "            self.renormalize()\n",
    "        self.ptable.update_mps()\n",
    "    \n",
    "    def encode_lps(self):\n",
    "        self.steps += 1\n",
    "        self.C += (self.A - self.Qe)\n",
    "        self.A = self.Qe\n",
    "#         if self.A >= self.Qe:\n",
    "#             self.C += self.A\n",
    "#             self.A = self.Qe\n",
    "        self.renormalize()\n",
    "        self.ptable.update_lps()"
   ]
  },
  {
   "cell_type": "code",
   "execution_count": 241,
   "metadata": {},
   "outputs": [
    {
     "data": {
      "text/plain": [
       "(41295, 654992, 2689, 43690, 2)"
      ]
     },
     "execution_count": 241,
     "metadata": {},
     "output_type": "execute_result"
    }
   ],
   "source": [
    "enc = Encoder()\n",
    "enc.encode_lps()\n",
    "enc.encode_mps()\n",
    "enc.A, enc.C, enc.Qe, enc.ptable.one, enc.steps"
   ]
  },
  {
   "cell_type": "code",
   "execution_count": 242,
   "metadata": {},
   "outputs": [],
   "source": [
    "class Decoder(object):\n",
    "    \n",
    "    def __init__(self, C, steps):\n",
    "        self.ptable = IllustrativeProbabilityTable()\n",
    "        self.lps = 1\n",
    "        self.C = C\n",
    "        self.A = self.ptable.one\n",
    "        self.steps = steps\n",
    "\n",
    "    @property\n",
    "    def Qe(self):\n",
    "        return self.ptable.qe\n",
    "    \n",
    "    def decode(self):\n",
    "        while self.steps > 0:\n",
    "            self.steps -= 1\n",
    "            self.A = self.A - self.Qe\n",
    "            if (enc.C & (((1 << 7) - 1) << 8)) < self.A:\n",
    "                # Cx \n",
    "                pass"
   ]
  },
  {
   "cell_type": "code",
   "execution_count": 243,
   "metadata": {},
   "outputs": [
    {
     "data": {
      "text/plain": [
       "41295"
      ]
     },
     "execution_count": 243,
     "metadata": {},
     "output_type": "execute_result"
    }
   ],
   "source": [
    "enc.A"
   ]
  },
  {
   "cell_type": "code",
   "execution_count": 244,
   "metadata": {},
   "outputs": [
    {
     "ename": "SyntaxError",
     "evalue": "invalid syntax (<ipython-input-244-dee4a9d92699>, line 1)",
     "output_type": "error",
     "traceback": [
      "\u001b[0;36m  File \u001b[0;32m\"<ipython-input-244-dee4a9d92699>\"\u001b[0;36m, line \u001b[0;32m1\u001b[0m\n\u001b[0;31m    enc.C &\u001b[0m\n\u001b[0m           ^\u001b[0m\n\u001b[0;31mSyntaxError\u001b[0m\u001b[0;31m:\u001b[0m invalid syntax\n"
     ]
    }
   ],
   "source": [
    "enc.C &"
   ]
  },
  {
   "cell_type": "code",
   "execution_count": 245,
   "metadata": {},
   "outputs": [
    {
     "data": {
      "text/plain": [
       "32256"
      ]
     },
     "execution_count": 245,
     "metadata": {},
     "output_type": "execute_result"
    }
   ],
   "source": [
    "enc.C & (((1 << 7) - 1) << 8)"
   ]
  },
  {
   "cell_type": "code",
   "execution_count": 246,
   "metadata": {},
   "outputs": [
    {
     "data": {
      "text/plain": [
       "2689"
      ]
     },
     "execution_count": 246,
     "metadata": {},
     "output_type": "execute_result"
    }
   ],
   "source": [
    "enc.Qe"
   ]
  },
  {
   "cell_type": "code",
   "execution_count": null,
   "metadata": {},
   "outputs": [],
   "source": []
  }
 ],
 "metadata": {
  "kernelspec": {
   "display_name": "Python 3",
   "language": "python",
   "name": "python3"
  },
  "language_info": {
   "codemirror_mode": {
    "name": "ipython",
    "version": 3
   },
   "file_extension": ".py",
   "mimetype": "text/x-python",
   "name": "python",
   "nbconvert_exporter": "python",
   "pygments_lexer": "ipython3",
   "version": "3.6.6"
  }
 },
 "nbformat": 4,
 "nbformat_minor": 2
}
